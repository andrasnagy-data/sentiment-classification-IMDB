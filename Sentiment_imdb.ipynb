{
 "cells": [
  {
   "cell_type": "code",
   "execution_count": 1,
   "id": "south-springfield",
   "metadata": {},
   "outputs": [],
   "source": [
    "import pandas as pd\n",
    "import numpy as np\n",
    "import matplotlib.pyplot as plt\n",
    "\n",
    "from sklearn.model_selection import train_test_split\n",
    "from sklearn.feature_extraction.text import CountVectorizer\n",
    "\n",
    "from sklearn.linear_model import LogisticRegression\n",
    "from sklearn.naive_bayes import MultinomialNB\n",
    "\n",
    "from sklearn import metrics"
   ]
  },
  {
   "cell_type": "markdown",
   "id": "curious-jimmy",
   "metadata": {},
   "source": [
    "### Load Data"
   ]
  },
  {
   "cell_type": "code",
   "execution_count": 2,
   "id": "ahead-snake",
   "metadata": {},
   "outputs": [],
   "source": [
    "path = 'data/IMDB Dataset.csv'\n",
    "reviews = pd.read_csv(path)"
   ]
  },
  {
   "cell_type": "code",
   "execution_count": 3,
   "id": "sought-functionality",
   "metadata": {},
   "outputs": [
    {
     "data": {
      "text/html": [
       "<div>\n",
       "<style scoped>\n",
       "    .dataframe tbody tr th:only-of-type {\n",
       "        vertical-align: middle;\n",
       "    }\n",
       "\n",
       "    .dataframe tbody tr th {\n",
       "        vertical-align: top;\n",
       "    }\n",
       "\n",
       "    .dataframe thead th {\n",
       "        text-align: right;\n",
       "    }\n",
       "</style>\n",
       "<table border=\"1\" class=\"dataframe\">\n",
       "  <thead>\n",
       "    <tr style=\"text-align: right;\">\n",
       "      <th></th>\n",
       "      <th>review</th>\n",
       "      <th>sentiment</th>\n",
       "    </tr>\n",
       "  </thead>\n",
       "  <tbody>\n",
       "    <tr>\n",
       "      <th>0</th>\n",
       "      <td>One of the other reviewers has mentioned that ...</td>\n",
       "      <td>positive</td>\n",
       "    </tr>\n",
       "    <tr>\n",
       "      <th>1</th>\n",
       "      <td>A wonderful little production. &lt;br /&gt;&lt;br /&gt;The...</td>\n",
       "      <td>positive</td>\n",
       "    </tr>\n",
       "    <tr>\n",
       "      <th>2</th>\n",
       "      <td>I thought this was a wonderful way to spend ti...</td>\n",
       "      <td>positive</td>\n",
       "    </tr>\n",
       "    <tr>\n",
       "      <th>3</th>\n",
       "      <td>Basically there's a family where a little boy ...</td>\n",
       "      <td>negative</td>\n",
       "    </tr>\n",
       "    <tr>\n",
       "      <th>4</th>\n",
       "      <td>Petter Mattei's \"Love in the Time of Money\" is...</td>\n",
       "      <td>positive</td>\n",
       "    </tr>\n",
       "  </tbody>\n",
       "</table>\n",
       "</div>"
      ],
      "text/plain": [
       "                                              review sentiment\n",
       "0  One of the other reviewers has mentioned that ...  positive\n",
       "1  A wonderful little production. <br /><br />The...  positive\n",
       "2  I thought this was a wonderful way to spend ti...  positive\n",
       "3  Basically there's a family where a little boy ...  negative\n",
       "4  Petter Mattei's \"Love in the Time of Money\" is...  positive"
      ]
     },
     "execution_count": 3,
     "metadata": {},
     "output_type": "execute_result"
    }
   ],
   "source": [
    "reviews.head()"
   ]
  },
  {
   "cell_type": "code",
   "execution_count": 4,
   "id": "furnished-uganda",
   "metadata": {},
   "outputs": [
    {
     "data": {
      "text/plain": [
       "review       0\n",
       "sentiment    0\n",
       "dtype: int64"
      ]
     },
     "execution_count": 4,
     "metadata": {},
     "output_type": "execute_result"
    }
   ],
   "source": [
    "reviews.isnull().sum()"
   ]
  },
  {
   "cell_type": "markdown",
   "id": "tender-capital",
   "metadata": {},
   "source": [
    "### Transform data"
   ]
  },
  {
   "cell_type": "markdown",
   "id": "higher-price",
   "metadata": {},
   "source": [
    "Create numerical target variables. I decided not to overwrite the \"sentiment\" column (could have done it to save memory)"
   ]
  },
  {
   "cell_type": "code",
   "execution_count": 5,
   "id": "sophisticated-pulse",
   "metadata": {},
   "outputs": [],
   "source": [
    "reviews['target'] = reviews.sentiment.map({'negative': 0, 'positive': 1})"
   ]
  },
  {
   "cell_type": "code",
   "execution_count": 6,
   "id": "needed-services",
   "metadata": {},
   "outputs": [
    {
     "data": {
      "text/html": [
       "<div>\n",
       "<style scoped>\n",
       "    .dataframe tbody tr th:only-of-type {\n",
       "        vertical-align: middle;\n",
       "    }\n",
       "\n",
       "    .dataframe tbody tr th {\n",
       "        vertical-align: top;\n",
       "    }\n",
       "\n",
       "    .dataframe thead th {\n",
       "        text-align: right;\n",
       "    }\n",
       "</style>\n",
       "<table border=\"1\" class=\"dataframe\">\n",
       "  <thead>\n",
       "    <tr style=\"text-align: right;\">\n",
       "      <th></th>\n",
       "      <th>review</th>\n",
       "      <th>sentiment</th>\n",
       "      <th>target</th>\n",
       "    </tr>\n",
       "  </thead>\n",
       "  <tbody>\n",
       "    <tr>\n",
       "      <th>0</th>\n",
       "      <td>One of the other reviewers has mentioned that ...</td>\n",
       "      <td>positive</td>\n",
       "      <td>1</td>\n",
       "    </tr>\n",
       "    <tr>\n",
       "      <th>1</th>\n",
       "      <td>A wonderful little production. &lt;br /&gt;&lt;br /&gt;The...</td>\n",
       "      <td>positive</td>\n",
       "      <td>1</td>\n",
       "    </tr>\n",
       "    <tr>\n",
       "      <th>2</th>\n",
       "      <td>I thought this was a wonderful way to spend ti...</td>\n",
       "      <td>positive</td>\n",
       "      <td>1</td>\n",
       "    </tr>\n",
       "    <tr>\n",
       "      <th>3</th>\n",
       "      <td>Basically there's a family where a little boy ...</td>\n",
       "      <td>negative</td>\n",
       "      <td>0</td>\n",
       "    </tr>\n",
       "    <tr>\n",
       "      <th>4</th>\n",
       "      <td>Petter Mattei's \"Love in the Time of Money\" is...</td>\n",
       "      <td>positive</td>\n",
       "      <td>1</td>\n",
       "    </tr>\n",
       "  </tbody>\n",
       "</table>\n",
       "</div>"
      ],
      "text/plain": [
       "                                              review sentiment  target\n",
       "0  One of the other reviewers has mentioned that ...  positive       1\n",
       "1  A wonderful little production. <br /><br />The...  positive       1\n",
       "2  I thought this was a wonderful way to spend ti...  positive       1\n",
       "3  Basically there's a family where a little boy ...  negative       0\n",
       "4  Petter Mattei's \"Love in the Time of Money\" is...  positive       1"
      ]
     },
     "execution_count": 6,
     "metadata": {},
     "output_type": "execute_result"
    }
   ],
   "source": [
    "reviews.head()"
   ]
  },
  {
   "cell_type": "markdown",
   "id": "elect-newark",
   "metadata": {},
   "source": [
    "### Create X and y"
   ]
  },
  {
   "cell_type": "code",
   "execution_count": 7,
   "id": "clean-evening",
   "metadata": {},
   "outputs": [],
   "source": [
    "X = reviews.review\n",
    "y = reviews.target"
   ]
  },
  {
   "cell_type": "code",
   "execution_count": 8,
   "id": "embedded-curve",
   "metadata": {},
   "outputs": [
    {
     "data": {
      "text/plain": [
       "((37500,), (12500,), (37500,), (12500,))"
      ]
     },
     "execution_count": 8,
     "metadata": {},
     "output_type": "execute_result"
    }
   ],
   "source": [
    "X_train, X_test, y_train, y_test = train_test_split(X, y, test_size= 0.25, random_state= 42)\n",
    "X_train.shape, X_test.shape, y_train.shape, y_test.shape"
   ]
  },
  {
   "cell_type": "markdown",
   "id": "assisted-coaching",
   "metadata": {},
   "source": [
    "### Vectorize train & test set"
   ]
  },
  {
   "cell_type": "markdown",
   "id": "ideal-affiliate",
   "metadata": {},
   "source": [
    "Create a vocabulary based on train set and only transform the test set (simulation of real-world application - the model will come across words that are not present in the vocabulary!)"
   ]
  },
  {
   "cell_type": "code",
   "execution_count": 9,
   "id": "possible-exposure",
   "metadata": {},
   "outputs": [],
   "source": [
    "vectorizer = CountVectorizer(stop_words= 'english', dtype= np.int32) # int32 to save memory"
   ]
  },
  {
   "cell_type": "code",
   "execution_count": 10,
   "id": "color-aruba",
   "metadata": {},
   "outputs": [
    {
     "data": {
      "text/plain": [
       "<37500x90404 sparse matrix of type '<class 'numpy.int32'>'\n",
       "\twith 3321482 stored elements in Compressed Sparse Row format>"
      ]
     },
     "execution_count": 10,
     "metadata": {},
     "output_type": "execute_result"
    }
   ],
   "source": [
    "X_train_dtm = vectorizer.fit_transform(X_train)\n",
    "X_train_dtm"
   ]
  },
  {
   "cell_type": "code",
   "execution_count": 11,
   "id": "democratic-relation",
   "metadata": {},
   "outputs": [
    {
     "data": {
      "text/plain": [
       "<12500x90404 sparse matrix of type '<class 'numpy.int32'>'\n",
       "\twith 1100873 stored elements in Compressed Sparse Row format>"
      ]
     },
     "execution_count": 11,
     "metadata": {},
     "output_type": "execute_result"
    }
   ],
   "source": [
    "X_test_dtm = vectorizer.transform(X_test)\n",
    "X_test_dtm"
   ]
  },
  {
   "cell_type": "markdown",
   "id": "upset-reset",
   "metadata": {},
   "source": [
    "In order to save memory, the sparse matrix is represented in Compressed Sparse Row format"
   ]
  },
  {
   "cell_type": "markdown",
   "id": "exposed-study",
   "metadata": {},
   "source": [
    "### Create model instances"
   ]
  },
  {
   "cell_type": "code",
   "execution_count": 12,
   "id": "extended-reflection",
   "metadata": {},
   "outputs": [],
   "source": [
    "naive_bayes = MultinomialNB()\n",
    "logreg = LogisticRegression(max_iter= 500)"
   ]
  },
  {
   "cell_type": "markdown",
   "id": "short-kennedy",
   "metadata": {},
   "source": [
    "Fit models with training data"
   ]
  },
  {
   "cell_type": "code",
   "execution_count": 13,
   "id": "professional-scheduling",
   "metadata": {},
   "outputs": [
    {
     "name": "stdout",
     "output_type": "stream",
     "text": [
      "23.2 ms ± 542 µs per loop (mean ± std. dev. of 7 runs, 10 loops each)\n"
     ]
    }
   ],
   "source": [
    "%%timeit\n",
    "naive_bayes.fit(X_train_dtm, y_train)"
   ]
  },
  {
   "cell_type": "code",
   "execution_count": 14,
   "id": "smaller-geneva",
   "metadata": {},
   "outputs": [
    {
     "name": "stdout",
     "output_type": "stream",
     "text": [
      "9.11 s ± 106 ms per loop (mean ± std. dev. of 7 runs, 1 loop each)\n"
     ]
    }
   ],
   "source": [
    "%timeit logreg.fit(X_train_dtm, y_train)"
   ]
  },
  {
   "cell_type": "markdown",
   "id": "large-iceland",
   "metadata": {},
   "source": [
    "The naive bayes model fits faster, however the logistic regression model has better calibrated probabilities (class prediction probabilities)"
   ]
  },
  {
   "cell_type": "markdown",
   "id": "fossil-dietary",
   "metadata": {},
   "source": [
    "### Model Evaluation"
   ]
  },
  {
   "cell_type": "markdown",
   "id": "baking-retention",
   "metadata": {},
   "source": [
    "Get predictions from the 2 classifiers"
   ]
  },
  {
   "cell_type": "code",
   "execution_count": 15,
   "id": "designing-algeria",
   "metadata": {},
   "outputs": [],
   "source": [
    "y_pred_NB = naive_bayes.predict(X_test_dtm)"
   ]
  },
  {
   "cell_type": "code",
   "execution_count": 16,
   "id": "uniform-boston",
   "metadata": {},
   "outputs": [],
   "source": [
    "y_pred_LR = logreg.predict(X_test_dtm)"
   ]
  },
  {
   "cell_type": "markdown",
   "id": "southeast-invalid",
   "metadata": {},
   "source": [
    "**Classification accuracy metrics**"
   ]
  },
  {
   "cell_type": "markdown",
   "id": "eastern-heating",
   "metadata": {},
   "source": [
    "Naive Bayes"
   ]
  },
  {
   "cell_type": "code",
   "execution_count": 17,
   "id": "adverse-opinion",
   "metadata": {},
   "outputs": [
    {
     "data": {
      "text/plain": [
       "0.8564"
      ]
     },
     "execution_count": 17,
     "metadata": {},
     "output_type": "execute_result"
    }
   ],
   "source": [
    "metrics.accuracy_score(y_test, y_pred_NB)"
   ]
  },
  {
   "cell_type": "code",
   "execution_count": 18,
   "id": "hairy-wrong",
   "metadata": {},
   "outputs": [],
   "source": [
    "tn, fp, fn, tp = metrics.confusion_matrix(y_test, y_pred_NB).ravel()"
   ]
  },
  {
   "cell_type": "markdown",
   "id": "imperial-plaza",
   "metadata": {},
   "source": [
    "True Negative, False Positive, False Negative, True Positive"
   ]
  },
  {
   "cell_type": "code",
   "execution_count": 19,
   "id": "continuous-roller",
   "metadata": {},
   "outputs": [
    {
     "data": {
      "text/plain": [
       "(5402, 755, 1040, 5303)"
      ]
     },
     "execution_count": 19,
     "metadata": {},
     "output_type": "execute_result"
    }
   ],
   "source": [
    "tn, fp, fn, tp"
   ]
  },
  {
   "cell_type": "markdown",
   "id": "other-praise",
   "metadata": {},
   "source": [
    "Logistic Regression"
   ]
  },
  {
   "cell_type": "code",
   "execution_count": 20,
   "id": "ahead-short",
   "metadata": {},
   "outputs": [
    {
     "data": {
      "text/plain": [
       "0.8828"
      ]
     },
     "execution_count": 20,
     "metadata": {},
     "output_type": "execute_result"
    }
   ],
   "source": [
    "metrics.accuracy_score(y_test, y_pred_LR)"
   ]
  },
  {
   "cell_type": "code",
   "execution_count": 21,
   "id": "young-estonia",
   "metadata": {},
   "outputs": [],
   "source": [
    "tn, fp, fn, tp = metrics.confusion_matrix(y_test, y_pred_LR).ravel()"
   ]
  },
  {
   "cell_type": "markdown",
   "id": "ignored-cowboy",
   "metadata": {},
   "source": [
    "True Negative, False Positive, False Negative, True Positive"
   ]
  },
  {
   "cell_type": "code",
   "execution_count": 22,
   "id": "monetary-sweden",
   "metadata": {},
   "outputs": [
    {
     "data": {
      "text/plain": [
       "(5403, 754, 711, 5632)"
      ]
     },
     "execution_count": 22,
     "metadata": {},
     "output_type": "execute_result"
    }
   ],
   "source": [
    "tn, fp, fn, tp"
   ]
  },
  {
   "cell_type": "markdown",
   "id": "automated-recommendation",
   "metadata": {},
   "source": [
    "**Base line accuracy**"
   ]
  },
  {
   "cell_type": "code",
   "execution_count": 23,
   "id": "solid-material",
   "metadata": {},
   "outputs": [
    {
     "data": {
      "text/plain": [
       "negative    0.5\n",
       "positive    0.5\n",
       "Name: sentiment, dtype: float64"
      ]
     },
     "execution_count": 23,
     "metadata": {},
     "output_type": "execute_result"
    }
   ],
   "source": [
    "reviews.sentiment.value_counts(normalize= True)"
   ]
  }
 ],
 "metadata": {
  "kernelspec": {
   "display_name": "Python 3",
   "language": "python",
   "name": "python3"
  },
  "language_info": {
   "codemirror_mode": {
    "name": "ipython",
    "version": 3
   },
   "file_extension": ".py",
   "mimetype": "text/x-python",
   "name": "python",
   "nbconvert_exporter": "python",
   "pygments_lexer": "ipython3",
   "version": "3.8.5"
  }
 },
 "nbformat": 4,
 "nbformat_minor": 5
}
